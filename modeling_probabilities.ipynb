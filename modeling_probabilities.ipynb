{
 "cells": [
  {
   "cell_type": "code",
   "execution_count": 10,
   "metadata": {},
   "outputs": [],
   "source": [
    "from llama_cpp import Llama\n",
    "import numpy as np\n",
    "from matplotlib import pyplot as plt\n",
    "import ctypes\n",
    "import torch\n",
    "from torch.nn import functional as F"
   ]
  },
  {
   "cell_type": "code",
   "execution_count": 11,
   "metadata": {},
   "outputs": [
    {
     "name": "stderr",
     "output_type": "stream",
     "text": [
      "llama.cpp: loading model from /media/captdishwasher/Samshmung/horenbergerb/llama/llama.cpp/models/llama/converted/llama_13b_ggml_q4_3.bin\n",
      "llama_model_load_internal: format     = ggjt v1 (latest)\n",
      "llama_model_load_internal: n_vocab    = 32000\n",
      "llama_model_load_internal: n_ctx      = 2048\n",
      "llama_model_load_internal: n_embd     = 5120\n",
      "llama_model_load_internal: n_mult     = 256\n",
      "llama_model_load_internal: n_head     = 40\n",
      "llama_model_load_internal: n_layer    = 40\n",
      "llama_model_load_internal: n_rot      = 128\n",
      "llama_model_load_internal: ftype      = 6 (mostly Q4_3)\n",
      "llama_model_load_internal: n_ff       = 13824\n",
      "llama_model_load_internal: n_parts    = 1\n",
      "llama_model_load_internal: model size = 13B\n",
      "llama_model_load_internal: ggml ctx size = 9534493.73 KB\n",
      "llama_model_load_internal: mem required  = 11359.03 MB (+ 1608.00 MB per state)\n",
      "....................................................................................................\n",
      "llama_init_from_file: kv self size  = 1600.00 MB\n",
      "llama_apply_lora_from_file_internal: applying lora adapter from '/media/captdishwasher/Samshmung/horenbergerb/llama/llama.cpp/models/SuperCOT-LoRA/13b/ggml/cutoff-2048/ggml-adapter-model.bin' - please wait ...\n",
      "llama_apply_lora_from_file_internal: r = 8, alpha = 16, scaling = 2.00\n",
      "llama_apply_lora_from_file_internal: warning: using a lora adapter with a quantized model may result in poor quality, use a f16 or f32 base model with --lora-base\n",
      ".................... done (24029.01 ms)\n",
      "AVX = 1 | AVX2 = 1 | AVX512 = 0 | AVX512_VBMI = 0 | AVX512_VNNI = 0 | FMA = 1 | NEON = 0 | ARM_FMA = 0 | F16C = 1 | FP16_VA = 0 | WASM_SIMD = 0 | BLAS = 1 | SSE3 = 1 | VSX = 0 | \n"
     ]
    }
   ],
   "source": [
    "model_bin = \"/media/captdishwasher/Samshmung/horenbergerb/llama/llama.cpp/models/llama/converted/llama_13b_ggml_q4_3.bin\"\n",
    "lora_bin = \"/media/captdishwasher/Samshmung/horenbergerb/llama/llama.cpp/models/SuperCOT-LoRA/13b/ggml/cutoff-2048/ggml-adapter-model.bin\"\n",
    "\n",
    "LLM = Llama(model_path=model_bin, lora_path=lora_bin, n_ctx=2048, n_threads=7, use_mmap=False, n_batch=512)"
   ]
  },
  {
   "cell_type": "code",
   "execution_count": 12,
   "metadata": {},
   "outputs": [],
   "source": []
  },
  {
   "cell_type": "code",
   "execution_count": 13,
   "metadata": {},
   "outputs": [],
   "source": [
    "def get_logits_and_probs(prompt):\n",
    "    tokens = LLM.tokenize(prompt.encode('utf-8'))\n",
    "    LLM.reset()\n",
    "    LLM.eval(tokens)\n",
    "    logits = LLM._logits()\n",
    "    logits = np.array(logits[0])\n",
    "    probs=F.softmax(torch.from_numpy(logits)).numpy()\n",
    "    return logits, probs"
   ]
  },
  {
   "cell_type": "code",
   "execution_count": 22,
   "metadata": {},
   "outputs": [],
   "source": [
    "def plot_logits(logits, bins=50):\n",
    "    counts, bins = np.histogram(logits, bins=bins)\n",
    "    plt.stairs(counts, bins)\n",
    "    plt.title('Histogram of logits')"
   ]
  },
  {
   "cell_type": "code",
   "execution_count": 24,
   "metadata": {},
   "outputs": [],
   "source": [
    "def plot_probs(probs, bins=1000, bins_to_skip=2):\n",
    "    counts, bins = np.histogram(probs, bins=bins)\n",
    "    # Observing that the vast majority of tokens are in the first bin, i.e. have incredibly small probability.\n",
    "    print('There are {} tokens outside the {} smallest bins.'.format(len(np.where(probs>bins[bins_to_skip])[0]), bins_to_skip))\n",
    "    # Don't plot the smallest bins since they are not interesting and dwarf all other bins\n",
    "    plt.stairs(counts[bins_to_skip:], bins[bins_to_skip:])\n",
    "    plt.title('Histogram of Token Probabilities')"
   ]
  },
  {
   "cell_type": "code",
   "execution_count": 1,
   "metadata": {},
   "outputs": [],
   "source": [
    "def plot_most_likely_tokens(probs, num_tokens_to_plot=10):\n",
    "    ind = np.argpartition(probs, -num_tokens_to_plot)[-num_tokens_to_plot:]\n",
    "\n",
    "    likely_tokens = []\n",
    "    token_probs = []\n",
    "\n",
    "    for token in ind:\n",
    "        c_token = [(ctypes.c_int)(*[token])]\n",
    "        print('Token: {}, Prob: {}'.format(LLM.detokenize(c_token), probs[token]))\n",
    "        likely_tokens.append(LLM.detokenize(c_token))\n",
    "        token_probs.append(probs[token])\n",
    "\n",
    "    plt.bar(likely_tokens, token_probs)\n",
    "    plt.title('Bar chart of 10 most likely tokens')"
   ]
  },
  {
   "cell_type": "code",
   "execution_count": 54,
   "metadata": {},
   "outputs": [],
   "source": [
    "def greedy_response_search(prompt, depth=2, num_tokens=2):\n",
    "    '''Take the {num_tokens} most likely tokens, then for each token, find the {num_tokens} most likely tokens. Repeat {depth} times'''\n",
    "    responses = [prompt]\n",
    "    response_probs = [1.0]\n",
    "    for cur in range(0, depth):\n",
    "        next_responses = []\n",
    "        next_probs = []\n",
    "        for ind, response in enumerate(responses):\n",
    "            #print('evaluating:')\n",
    "            #print(response)\n",
    "            tokens = LLM.tokenize(response.encode('utf-8'))\n",
    "            LLM.reset()\n",
    "            LLM.eval(tokens)\n",
    "            logits = LLM._logits()\n",
    "            logits = np.array(logits[0])\n",
    "            probs=F.softmax(torch.from_numpy(logits)).numpy()\n",
    "            for next_token in np.argpartition(logits, -num_tokens)[-num_tokens:]:\n",
    "                c_token = [(ctypes.c_int)(*[next_token])]\n",
    "                # print('Token: {} Detokenized: {}'.format(token, LLM.detokenize(c_token)))\n",
    "                #print('Found token: {}'.format(LLM.detokenize(c_token).decode(\"utf-8\")))\n",
    "                next_responses.append(response + LLM.detokenize(c_token).decode(\"utf-8\"))\n",
    "                next_probs.append(response_probs[ind]*probs[next_token])\n",
    "        responses = next_responses\n",
    "        response_probs = next_probs\n",
    "    responses = [x[len(prompt):] for x in responses]\n",
    "    return responses, response_probs"
   ]
  },
  {
   "cell_type": "code",
   "execution_count": 2,
   "metadata": {},
   "outputs": [
    {
     "ename": "NameError",
     "evalue": "name 'get_logits_and_probs' is not defined",
     "output_type": "error",
     "traceback": [
      "\u001b[0;31m---------------------------------------------------------------------------\u001b[0m",
      "\u001b[0;31mNameError\u001b[0m                                 Traceback (most recent call last)",
      "\u001b[1;32m/media/captdishwasher/Samshmung/horenbergerb/llama/llamagotchi/modeling_probabilities.ipynb Cell 9\u001b[0m in \u001b[0;36m<cell line: 6>\u001b[0;34m()\u001b[0m\n\u001b[1;32m      <a href='vscode-notebook-cell:/media/captdishwasher/Samshmung/horenbergerb/llama/llamagotchi/modeling_probabilities.ipynb#X11sZmlsZQ%3D%3D?line=0'>1</a>\u001b[0m prompt \u001b[39m=\u001b[39m \u001b[39m\"\"\"\u001b[39m\u001b[39m### Instruction:\u001b[39m\n\u001b[1;32m      <a href='vscode-notebook-cell:/media/captdishwasher/Samshmung/horenbergerb/llama/llamagotchi/modeling_probabilities.ipynb#X11sZmlsZQ%3D%3D?line=1'>2</a>\u001b[0m \u001b[39mRandomly name a fantasy race. Be creative. Answer succinctly.\u001b[39m\n\u001b[1;32m      <a href='vscode-notebook-cell:/media/captdishwasher/Samshmung/horenbergerb/llama/llamagotchi/modeling_probabilities.ipynb#X11sZmlsZQ%3D%3D?line=2'>3</a>\u001b[0m \n\u001b[1;32m      <a href='vscode-notebook-cell:/media/captdishwasher/Samshmung/horenbergerb/llama/llamagotchi/modeling_probabilities.ipynb#X11sZmlsZQ%3D%3D?line=3'>4</a>\u001b[0m \u001b[39m### Response:\u001b[39m\n\u001b[1;32m      <a href='vscode-notebook-cell:/media/captdishwasher/Samshmung/horenbergerb/llama/llamagotchi/modeling_probabilities.ipynb#X11sZmlsZQ%3D%3D?line=4'>5</a>\u001b[0m \u001b[39m\"\"\"\u001b[39m\n\u001b[0;32m----> <a href='vscode-notebook-cell:/media/captdishwasher/Samshmung/horenbergerb/llama/llamagotchi/modeling_probabilities.ipynb#X11sZmlsZQ%3D%3D?line=5'>6</a>\u001b[0m logits, probs \u001b[39m=\u001b[39m get_logits_and_probs(prompt)\n\u001b[1;32m      <a href='vscode-notebook-cell:/media/captdishwasher/Samshmung/horenbergerb/llama/llamagotchi/modeling_probabilities.ipynb#X11sZmlsZQ%3D%3D?line=6'>7</a>\u001b[0m plot_logits(logits\u001b[39m=\u001b[39mlogits)\n\u001b[1;32m      <a href='vscode-notebook-cell:/media/captdishwasher/Samshmung/horenbergerb/llama/llamagotchi/modeling_probabilities.ipynb#X11sZmlsZQ%3D%3D?line=7'>8</a>\u001b[0m plt\u001b[39m.\u001b[39mshow()\n",
      "\u001b[0;31mNameError\u001b[0m: name 'get_logits_and_probs' is not defined"
     ]
    }
   ],
   "source": [
    "prompt = \"\"\"### Instruction:\n",
    "Randomly name a fantasy race. Be creative. Answer succinctly.\n",
    "\n",
    "### Response:\n",
    "\"\"\"\n",
    "logits, probs = get_logits_and_probs(prompt)\n",
    "plot_logits(logits=logits)\n",
    "plt.show()\n",
    "plot_probs(probs)\n",
    "plt.show()\n",
    "plot_most_likely_tokens(probs)\n",
    "plt.show()"
   ]
  },
  {
   "cell_type": "code",
   "execution_count": 56,
   "metadata": {},
   "outputs": [
    {
     "name": "stderr",
     "output_type": "stream",
     "text": [
      "/tmp/ipykernel_1021490/998085126.py:7: UserWarning: Implicit dimension choice for softmax has been deprecated. Change the call to include dim=X as an argument.\n",
      "  probs=F.softmax(torch.from_numpy(logits)).numpy()\n"
     ]
    },
    {
     "data": {
      "image/png": "[encoded data removed]",
      "text/plain": [
       "<Figure size 432x288 with 1 Axes>"
      ]
     },
     "metadata": {
      "needs_background": "light"
     },
     "output_type": "display_data"
    },
    {
     "name": "stdout",
     "output_type": "stream",
     "text": [
      "There are 167 tokens outside the 2 smallest bins.\n"
     ]
    },
    {
     "data": {
      "image/png": "[encoded data removed]",
      "text/plain": [
       "<Figure size 432x288 with 1 Axes>"
      ]
     },
     "metadata": {
      "needs_background": "light"
     },
     "output_type": "display_data"
    },
    {
     "data": {
      "image/png": "[encoded data removed]",
      "text/plain": [
       "<Figure size 432x288 with 1 Axes>"
      ]
     },
     "metadata": {
      "needs_background": "light"
     },
     "output_type": "display_data"
    }
   ],
   "source": [
    "prompt = \"\"\"### Instruction:\n",
    "Randomly name a fantasy race. Be creative. Answer in one word.\n",
    "\n",
    "### Response:\n",
    "\"\"\"\n",
    "logits, probs = get_logits_and_probs(prompt)\n",
    "plot_logits(logits=logits)\n",
    "plt.show()\n",
    "plot_probs(probs)\n",
    "plt.show()\n",
    "plot_most_likely_tokens(probs)\n",
    "plt.show()"
   ]
  },
  {
   "cell_type": "code",
   "execution_count": 58,
   "metadata": {},
   "outputs": [
    {
     "name": "stderr",
     "output_type": "stream",
     "text": [
      "/tmp/ipykernel_1021490/2290354141.py:16: UserWarning: Implicit dimension choice for softmax has been deprecated. Change the call to include dim=X as an argument.\n",
      "  probs=F.softmax(torch.from_numpy(logits)).numpy()\n"
     ]
    },
    {
     "name": "stdout",
     "output_type": "stream",
     "text": [
      "Responses\n",
      "Probability: 0.011783598370544953\n",
      "Gnom\n",
      "Probability: 0.01425448403399695\n",
      "Gnome\n",
      "Probability: 0.033013961080903424\n",
      "Gob\n",
      "Probability: 0.0011144846294314607\n",
      "Dem\n",
      "Probability: 0.0024760043095810075\n",
      "Dry\n",
      "Probability: 0.09315954141257773\n",
      "Dwar\n",
      "Probability: 0.003968168240438095\n",
      "\n",
      "#\n",
      "Probability: 0.0826780617549568\n",
      "\n",
      "##\n",
      "Probability: 0.01963057070306834\n",
      "\n",
      "```\n"
     ]
    }
   ],
   "source": [
    "responses, response_probs = greedy_response_search(prompt, depth=2, num_tokens=3)\n",
    "print(\"Responses\")\n",
    "for ind, response in enumerate(responses):\n",
    "    print(\"Probability: {}\".format(response_probs[ind]))\n",
    "    print(response)"
   ]
  },
  {
   "cell_type": "code",
   "execution_count": 36,
   "metadata": {},
   "outputs": [
    {
     "name": "stderr",
     "output_type": "stream",
     "text": [
      "/tmp/ipykernel_1021490/998085126.py:7: UserWarning: Implicit dimension choice for softmax has been deprecated. Change the call to include dim=X as an argument.\n",
      "  probs=F.softmax(torch.from_numpy(logits)).numpy()\n"
     ]
    },
    {
     "data": {
      "image/png": "[encoded data removed]",
      "text/plain": [
       "<Figure size 432x288 with 1 Axes>"
      ]
     },
     "metadata": {
      "needs_background": "light"
     },
     "output_type": "display_data"
    },
    {
     "name": "stdout",
     "output_type": "stream",
     "text": [
      "There are 206 tokens outside the 2 smallest bins.\n"
     ]
    },
    {
     "data": {
      "image/png": "[encoded data removed]",
      "text/plain": [
       "<Figure size 432x288 with 1 Axes>"
      ]
     },
     "metadata": {
      "needs_background": "light"
     },
     "output_type": "display_data"
    },
    {
     "data": {
      "image/png": "[encoded data removed]",
      "text/plain": [
       "<Figure size 432x288 with 1 Axes>"
      ]
     },
     "metadata": {
      "needs_background": "light"
     },
     "output_type": "display_data"
    }
   ],
   "source": [
    "prompt = \"\"\"### Instruction:\n",
    "State a creature in a Dungeons and Dragons campaign. Be creative. Answer in one word.\n",
    "\n",
    "### Response:\\n\"\"\"\n",
    "logits, probs = get_logits_and_probs(prompt)\n",
    "plot_logits(logits=logits)\n",
    "plt.show()\n",
    "plot_probs(probs)\n",
    "plt.show()\n",
    "plot_most_likely_tokens(probs)\n",
    "plt.show()"
   ]
  }
 ],
 "metadata": {
  "kernelspec": {
   "display_name": "textgen",
   "language": "python",
   "name": "python3"
  },
  "language_info": {
   "codemirror_mode": {
    "name": "ipython",
    "version": 3
   },
   "file_extension": ".py",
   "mimetype": "text/x-python",
   "name": "python",
   "nbconvert_exporter": "python",
   "pygments_lexer": "ipython3",
   "version": "3.10.9"
  },
  "orig_nbformat": 4
 },
 "nbformat": 4,
 "nbformat_minor": 2
}
