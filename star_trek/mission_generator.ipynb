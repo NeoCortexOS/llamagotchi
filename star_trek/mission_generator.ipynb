{
 "cells": [
  {
   "attachments": {},
   "cell_type": "markdown",
   "metadata": {},
   "source": [
    "# Notes\n",
    "\n",
    "## General\n",
    "\n",
    "- Make a preformatted \"Ship Information\" text block to inject into prompts\n",
    "\n",
    "## Missions\n",
    "\n",
    "- Potentially assign stats to the ship such as \"Notoriety\" or \"Reputation\"\n",
    "- Generate \"Danger levels\" or something of the sort for each mission\n",
    "- Only assign missions with a danger level matching the ship's reputation.\n",
    "- Potentially add more ship/crew information to the prompt?\n",
    "- Currently Q/A is not working super well\n",
    "- Figure out how to \"do a mission\"\n",
    "    - Maybe first figure out what operating the ship will be like?\n",
    "\n",
    "## The Ship\n",
    "\n",
    "- What functionality does the ship have?\n",
    "- What variables are tracked? (Heading, speed, shields, etc.)\n",
    "- How are operations performed?\n",
    "    - Captain commands subordinates who perform tasks"
   ]
  },
  {
   "cell_type": "code",
   "execution_count": 8,
   "metadata": {},
   "outputs": [],
   "source": [
    "from langchain import LLMChain\n",
    "from langchain.llms import LlamaCpp\n",
    "from langchain.prompts import PromptTemplate"
   ]
  },
  {
   "cell_type": "code",
   "execution_count": 9,
   "metadata": {},
   "outputs": [
    {
     "name": "stderr",
     "output_type": "stream",
     "text": [
      "llama.cpp: loading model from /media/captdishwasher/Samshmung/horenbergerb/llama/llama.cpp/models/llama/converted/llama_13b_ggml_q4_3.bin\n",
      "llama_model_load_internal: format     = ggjt v1 (latest)\n",
      "llama_model_load_internal: n_vocab    = 32000\n",
      "llama_model_load_internal: n_ctx      = 2048\n",
      "llama_model_load_internal: n_embd     = 5120\n",
      "llama_model_load_internal: n_mult     = 256\n",
      "llama_model_load_internal: n_head     = 40\n",
      "llama_model_load_internal: n_layer    = 40\n",
      "llama_model_load_internal: n_rot      = 128\n",
      "llama_model_load_internal: ftype      = 6 (mostly Q4_3)\n",
      "llama_model_load_internal: n_ff       = 13824\n",
      "llama_model_load_internal: n_parts    = 1\n",
      "llama_model_load_internal: model size = 13B\n",
      "llama_model_load_internal: ggml ctx size = 9534493.73 KB\n",
      "llama_model_load_internal: mem required  = 11359.03 MB (+ 3216.00 MB per state)\n",
      "....................................................................................................\n",
      "llama_init_from_file: kv self size  = 3200.00 MB\n",
      "llama_apply_lora_from_file_internal: applying lora adapter from '/media/captdishwasher/Samshmung/horenbergerb/llama/llama.cpp/models/SuperCOT-LoRA/13b/ggml/cutoff-2048/ggml-adapter-model.bin' - please wait ...\n",
      "llama_apply_lora_from_file_internal: r = 8, alpha = 16, scaling = 2.00\n",
      "llama_apply_lora_from_file_internal: warning: using a lora adapter with a quantized model may result in poor quality, use a f16 or f32 base model with --lora-base\n",
      ".................... done (21287.70 ms)\n",
      "AVX = 1 | AVX2 = 1 | AVX512 = 0 | AVX512_VBMI = 0 | AVX512_VNNI = 0 | FMA = 1 | NEON = 0 | ARM_FMA = 0 | F16C = 1 | FP16_VA = 0 | WASM_SIMD = 0 | BLAS = 1 | SSE3 = 1 | VSX = 0 | \n"
     ]
    }
   ],
   "source": [
    "model_bin = \"/media/captdishwasher/Samshmung/horenbergerb/llama/llama.cpp/models/llama/converted/llama_13b_ggml_q4_3.bin\"\n",
    "lora_bin = \"/media/captdishwasher/Samshmung/horenbergerb/llama/llama.cpp/models/SuperCOT-LoRA/13b/ggml/cutoff-2048/ggml-adapter-model.bin\"\n",
    "\n",
    "LLM = LlamaCpp(model_path=model_bin, lora_path=lora_bin, n_ctx=2048, n_threads=6, use_mmap=False, n_batch=512, temperature=1.0, top_p=0.6, stop=[\"\\n\\n### Input:\"])"
   ]
  },
  {
   "cell_type": "code",
   "execution_count": 15,
   "metadata": {},
   "outputs": [],
   "source": [
    "user_vessel = \"Carbide Cannon\"\n",
    "user_vessel_designation = \"freighter\"\n",
    "user_vessel_capabilities = \"trading, transporting small cargo loads, or transporting low-priority passengers\"\n",
    "current_location = \"Starbase 453\"\n",
    "current_location_description = \"a small starbase located near the edge of Federation space\""
   ]
  },
  {
   "cell_type": "code",
   "execution_count": 16,
   "metadata": {},
   "outputs": [],
   "source": [
    "mission_statement_prompt = PromptTemplate.from_template(\"\"\"### Instruction:\n",
    "You are to act as a Star Trek storyboarding assistant. The user will request certain information, and you will generate succinct, creative, high-quality responses which meet the user's criteria.\n",
    "\n",
    "### Input:\n",
    "The {vessel} is a {vessel_designation} class ship designed for {vessel_capabilities}. It is currently docked at {location}, {location_description}. The crew of the {vessel} asks around {location} looking for a mission or task. Generate a brief summary of the mission/task they will receive.\n",
    "\n",
    "### Response:\n",
    "MISSION/TASK:\n",
    "\"\"\"\n",
    ")\n",
    "chain = LLMChain(llm=LLM, prompt=mission_statement_prompt, verbose=True)"
   ]
  },
  {
   "cell_type": "code",
   "execution_count": 17,
   "metadata": {},
   "outputs": [
    {
     "name": "stdout",
     "output_type": "stream",
     "text": [
      "\n",
      "\n",
      "\u001b[1m> Entering new LLMChain chain...\u001b[0m\n",
      "Prompt after formatting:\n",
      "\u001b[32;1m\u001b[1;3m### Instruction:\n",
      "You are to act as a Star Trek storyboarding assistant. The user will request certain information, and you will generate succinct, creative, high-quality responses which meet the user's criteria.\n",
      "\n",
      "### Input:\n",
      "The Carbide Cannon is a freighter class ship designed for trading, transporting small cargo loads, or transporting low-priority passengers. It is currently docked at Starbase 453, a small starbase located near the edge of Federation space. The crew of the Carbide Cannon asks around Starbase 453 looking for a mission or task. Generate a brief summary of the mission/task they will receive.\n",
      "\n",
      "### Response:\n",
      "MISSION/TASK:\n",
      "\u001b[0m\n",
      "\n",
      "\u001b[1m> Finished chain.\u001b[0m\n"
     ]
    },
    {
     "name": "stderr",
     "output_type": "stream",
     "text": [
      "\n",
      "llama_print_timings:        load time =  4037.14 ms\n",
      "llama_print_timings:      sample time =    30.21 ms /    81 runs   (    0.37 ms per run)\n",
      "llama_print_timings: prompt eval time =  3717.17 ms /   166 tokens (   22.39 ms per token)\n",
      "llama_print_timings:        eval time = 36784.92 ms /    80 runs   (  459.81 ms per run)\n",
      "llama_print_timings:       total time = 40540.63 ms\n"
     ]
    },
    {
     "data": {
      "text/plain": [
       "'The crew of the Carbide Cannon is assigned to transport a high-priority diplomatic delegation from Starbase 453 to Starbase 71, located near the Romulan Neutral Zone. The delegation will discuss potential trade agreements and explore the possibility of establishing peaceful relations between the Federation and the Romulans.'"
      ]
     },
     "execution_count": 17,
     "metadata": {},
     "output_type": "execute_result"
    }
   ],
   "source": [
    "result = chain.run(vessel=user_vessel, vessel_designation=user_vessel_designation, vessel_capabilities=user_vessel_capabilities, location=current_location, location_description=current_location_description)\n",
    "result"
   ]
  },
  {
   "cell_type": "code",
   "execution_count": 31,
   "metadata": {},
   "outputs": [],
   "source": [
    "question_prompt = PromptTemplate.from_template(\"\"\"### Instruction:\n",
    "You are to act as a Star Trek storyboarding assistant. The user will request certain information, and you will generate succinct, creative, high-quality responses which meet the user's criteria.\n",
    "\n",
    "### Input:\n",
    "The {vessel} is a {vessel_designation} class ship designed for {vessel_capabilities}. It is currently docked at {location}, {location_description}. The crew of the {vessel} asked around {location} looking for a mission or task. They were asked to consider the following mission:\n",
    "\n",
    "```\n",
    "{mission_statement}\n",
    "```\n",
    "\n",
    "The crew has asked a question about the mission:\n",
    "\n",
    "```\n",
    "{question}\n",
    "```\n",
    "\n",
    "Generate a believable answer for the provided question. Use only the provided information about the {vessel} and its crew in your answer. Fabricate additional details about the mission or {location} if necessary. Be succinct.\n",
    "\n",
    "### Response:\n",
    "ANSWER: \n",
    "\"\"\"\n",
    ")\n",
    "question_chain = LLMChain(llm=LLM, prompt=question_prompt, verbose=True)"
   ]
  },
  {
   "cell_type": "code",
   "execution_count": 32,
   "metadata": {},
   "outputs": [
    {
     "name": "stdout",
     "output_type": "stream",
     "text": [
      "\n",
      "\n",
      "\u001b[1m> Entering new LLMChain chain...\u001b[0m\n",
      "Prompt after formatting:\n",
      "\u001b[32;1m\u001b[1;3m### Instruction:\n",
      "You are to act as a Star Trek storyboarding assistant. The user will request certain information, and you will generate succinct, creative, high-quality responses which meet the user's criteria.\n",
      "\n",
      "### Input:\n",
      "The Carbide Cannon is a freighter class ship designed for trading, transporting small cargo loads, or transporting low-priority passengers. It is currently docked at Starbase 453, a small starbase located near the edge of Federation space. The crew of the Carbide Cannon asked around Starbase 453 looking for a mission or task. They were asked to consider the following mission:\n",
      "\n",
      "```\n",
      "The crew of the Carbide Cannon is assigned to transport a high-priority diplomatic delegation from Starbase 453 to Starbase 71, located near the Romulan Neutral Zone. The delegation will discuss potential trade agreements and explore the possibility of establishing peaceful relations between the Federation and the Romulans.\n",
      "```\n",
      "\n",
      "The crew has asked a question about the mission:\n",
      "\n",
      "```\n",
      "Why should we take this mission? Our ship isn't equipped to transport high-priority individuals. Surely there must be a better crew for this job.\n",
      "```\n",
      "\n",
      "Generate a believable answer for the provided question. Use only the provided information about the Carbide Cannon and its crew in your answer. Fabricate additional details about the mission or Starbase 453 if necessary. Be succinct.\n",
      "\n",
      "### Response:\n",
      "ANSWER: \n",
      "\u001b[0m\n",
      "\n",
      "\u001b[1m> Finished chain.\u001b[0m\n"
     ]
    },
    {
     "name": "stderr",
     "output_type": "stream",
     "text": [
      "\n",
      "llama_print_timings:        load time =  4037.14 ms\n",
      "llama_print_timings:      sample time =    46.81 ms /   127 runs   (    0.37 ms per run)\n",
      "llama_print_timings: prompt eval time =  5900.38 ms /   347 tokens (   17.00 ms per token)\n",
      "llama_print_timings:        eval time = 58360.00 ms /   126 runs   (  463.17 ms per run)\n",
      "llama_print_timings:       total time = 64321.65 ms\n"
     ]
    },
    {
     "data": {
      "text/plain": [
       "'The Carbide Cannon is a versatile freighter class ship, with ample cargo space for transporting small loads of goods and people. The crew is skilled in various areas, including engineering, navigation, diplomacy, and tactical operations. They are familiar with Starbase 453, which will help them navigate the complex diplomatic procedures at Starbase 71. Your mission is important to both the Federation and the Romulans, and it requires a crew with diverse skill sets and experience. The Carbide Cannon is uniquely suited for this assignment.'"
      ]
     },
     "execution_count": 32,
     "metadata": {},
     "output_type": "execute_result"
    }
   ],
   "source": [
    "user_question = \"Why should we take this mission? Our ship isn't equipped to transport high-priority individuals. Surely there must be a better crew for this job.\"\n",
    "question_result = question_chain.run(vessel=user_vessel, vessel_designation=user_vessel_designation, vessel_capabilities=user_vessel_capabilities, location=current_location, location_description=current_location_description, mission_statement=result, question=user_question)\n",
    "question_result"
   ]
  }
 ],
 "metadata": {
  "kernelspec": {
   "display_name": "textgen",
   "language": "python",
   "name": "python3"
  },
  "language_info": {
   "codemirror_mode": {
    "name": "ipython",
    "version": 3
   },
   "file_extension": ".py",
   "mimetype": "text/x-python",
   "name": "python",
   "nbconvert_exporter": "python",
   "pygments_lexer": "ipython3",
   "version": "3.10.9"
  },
  "orig_nbformat": 4
 },
 "nbformat": 4,
 "nbformat_minor": 2
}
