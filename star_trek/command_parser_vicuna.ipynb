{
 "cells": [
  {
   "cell_type": "code",
   "execution_count": 2,
   "metadata": {},
   "outputs": [],
   "source": [
    "from llama_cpp import Llama\n",
    "import numpy as np\n",
    "from matplotlib import pyplot as plt\n",
    "import ctypes\n",
    "import torch\n",
    "from torch.nn import functional as F"
   ]
  },
  {
   "cell_type": "code",
   "execution_count": 3,
   "metadata": {},
   "outputs": [
    {
     "name": "stderr",
     "output_type": "stream",
     "text": [
      "llama.cpp: loading model from /media/captdishwasher/Samshmung/horenbergerb/llama/llama.cpp/models/vicuna-13B-1.1-GPTQ-4bit-128g-GGML/vicuna-13B-1.1-GPTQ-4bit-32g.GGML.bin\n",
      "llama_model_load_internal: format     = ggjt v1 (latest)\n",
      "llama_model_load_internal: n_vocab    = 32000\n",
      "llama_model_load_internal: n_ctx      = 2048\n",
      "llama_model_load_internal: n_embd     = 5120\n",
      "llama_model_load_internal: n_mult     = 256\n",
      "llama_model_load_internal: n_head     = 40\n",
      "llama_model_load_internal: n_layer    = 40\n",
      "llama_model_load_internal: n_rot      = 128\n",
      "llama_model_load_internal: ftype      = 4 (mostly Q4_1, some F16)\n",
      "llama_model_load_internal: n_ff       = 13824\n",
      "llama_model_load_internal: n_parts    = 1\n",
      "llama_model_load_internal: model size = 13B\n",
      "llama_model_load_internal: ggml ctx size = 9934493.73 KB\n",
      "llama_model_load_internal: mem required  = 11749.65 MB (+ 1608.00 MB per state)\n",
      "....................................................................................................\n",
      "llama_init_from_file: kv self size  = 1600.00 MB\n",
      "AVX = 1 | AVX2 = 1 | AVX512 = 0 | AVX512_VBMI = 0 | AVX512_VNNI = 0 | FMA = 1 | NEON = 0 | ARM_FMA = 0 | F16C = 1 | FP16_VA = 0 | WASM_SIMD = 0 | BLAS = 1 | SSE3 = 1 | VSX = 0 | \n"
     ]
    }
   ],
   "source": [
    "model_bin = \"/media/captdishwasher/Samshmung/horenbergerb/llama/llama.cpp/models/vicuna-13B-1.1-GPTQ-4bit-128g-GGML/vicuna-13B-1.1-GPTQ-4bit-32g.GGML.bin\"\n",
    "\n",
    "LLM = Llama(model_path=model_bin, n_ctx=2048, n_threads=7, use_mmap=False, n_batch=512)"
   ]
  },
  {
   "cell_type": "code",
   "execution_count": 4,
   "metadata": {},
   "outputs": [],
   "source": [
    "def get_logits_and_probs(prompt):\n",
    "    tokens = LLM.tokenize(prompt.encode('utf-8'))\n",
    "    LLM.reset()\n",
    "    LLM.eval(tokens)\n",
    "    logits = LLM._logits()\n",
    "    logits = np.array(logits[0])\n",
    "    probs=F.softmax(torch.from_numpy(logits)).numpy()\n",
    "    return logits, probs"
   ]
  },
  {
   "cell_type": "code",
   "execution_count": 5,
   "metadata": {},
   "outputs": [],
   "source": [
    "def plot_logits(logits, bins=50):\n",
    "    counts, bins = np.histogram(logits, bins=bins)\n",
    "    plt.stairs(counts, bins)\n",
    "    plt.title('Histogram of logits')"
   ]
  },
  {
   "cell_type": "code",
   "execution_count": 6,
   "metadata": {},
   "outputs": [],
   "source": [
    "def plot_probs(probs, bins=1000, bins_to_skip=2):\n",
    "    counts, bins = np.histogram(probs, bins=bins)\n",
    "    # Observing that the vast majority of tokens are in the first bin, i.e. have incredibly small probability.\n",
    "    print('There are {} tokens outside the {} smallest bins.'.format(len(np.where(probs>bins[bins_to_skip])[0]), bins_to_skip))\n",
    "    # Don't plot the smallest bins since they are not interesting and dwarf all other bins\n",
    "    plt.stairs(counts[bins_to_skip:], bins[bins_to_skip:])\n",
    "    plt.title('Histogram of Token Probabilities')"
   ]
  },
  {
   "cell_type": "code",
   "execution_count": 7,
   "metadata": {},
   "outputs": [],
   "source": [
    "def plot_most_likely_tokens(probs, num_tokens_to_plot=10):\n",
    "    ind = np.argpartition(probs, -num_tokens_to_plot)[-num_tokens_to_plot:]\n",
    "\n",
    "    likely_tokens = []\n",
    "    token_probs = []\n",
    "\n",
    "    for token in ind:\n",
    "        c_token = [(ctypes.c_int)(*[token])]\n",
    "        print('Token: {}, Prob: {}'.format(LLM.detokenize(c_token), probs[token]))\n",
    "        # print('Token: {} Detokenized: {}'.format(token, LLM.detokenize(c_token)))\n",
    "        likely_tokens.append(LLM.detokenize(c_token))\n",
    "        token_probs.append(probs[token])\n",
    "\n",
    "    plt.bar(likely_tokens, token_probs)\n",
    "    plt.title('Bar chart of 10 most likely tokens')"
   ]
  },
  {
   "cell_type": "code",
   "execution_count": 8,
   "metadata": {},
   "outputs": [
    {
     "name": "stdout",
     "output_type": "stream",
     "text": [
      "HUMAN: You are to act as a verbal command parser on the bridge of a star ship from the Star Trek series.\n",
      "You will be given a command spoken by the captain of the ship. \n",
      "\n",
      "You must determine which command is meant by the input. The possible outputs are [SET HEADING, SET SPEED, GET ENGINE STATUS, GET SPEED, GET HEADING, UNKNOWN]\n",
      "\n",
      "If the command is nonsensical, unclear, or null, then output \"UNKNOWN\".\n",
      "\n",
      "Respond with the command most appropriate command for the given input.\n",
      "\n",
      "Input:\n",
      "Full stop, John\n",
      "ASSISTANT:\n"
     ]
    },
    {
     "name": "stderr",
     "output_type": "stream",
     "text": [
      "/tmp/ipykernel_1622578/998085126.py:7: UserWarning: Implicit dimension choice for softmax has been deprecated. Change the call to include dim=X as an argument.\n",
      "  probs=F.softmax(torch.from_numpy(logits)).numpy()\n"
     ]
    },
    {
     "data": {
      "image/png": "[encoded data removed]",
      "text/plain": [
       "<Figure size 432x288 with 1 Axes>"
      ]
     },
     "metadata": {
      "needs_background": "light"
     },
     "output_type": "display_data"
    },
    {
     "name": "stdout",
     "output_type": "stream",
     "text": [
      "There are 24 tokens outside the 2 smallest bins.\n"
     ]
    },
    {
     "data": {
      "image/png": "[encoded data removed]",
      "text/plain": [
       "<Figure size 432x288 with 1 Axes>"
      ]
     },
     "metadata": {
      "needs_background": "light"
     },
     "output_type": "display_data"
    },
    {
     "name": "stdout",
     "output_type": "stream",
     "text": [
      "Token: b' U', Prob: 0.0049072278888443194\n",
      "Token: b' \"', Prob: 0.005528442273893844\n",
      "Token: b' HE', Prob: 0.006076538701255359\n",
      "Token: b' UN', Prob: 0.2756643507994488\n",
      "Token: b' SET', Prob: 0.30163064269642453\n",
      "Token: b' Set', Prob: 0.028466953942357775\n",
      "Token: b' C', Prob: 0.006886382201628722\n",
      "Token: b' Un', Prob: 0.0182842962678567\n",
      "Token: b' Get', Prob: 0.03925159020684542\n",
      "Token: b' GET', Prob: 0.2814935479874734\n"
     ]
    },
    {
     "data": {
      "image/png": "[encoded data removed]",
      "text/plain": [
       "<Figure size 432x288 with 1 Axes>"
      ]
     },
     "metadata": {
      "needs_background": "light"
     },
     "output_type": "display_data"
    }
   ],
   "source": [
    "#command = \"Don't do anything, John!\"\n",
    "#command = \"John, beegle freegle, would ya?\"\n",
    "#command = \"John, set the heading to 150 mark 190.\"\n",
    "#command = \"Bring us around, John! Reverse course!\"\n",
    "#command = \"Bring us to full stop, John.\"\n",
    "command = \"Full stop, John\"\n",
    "#command = \"I love jelly!\"\n",
    "#command = \"John, I love jelly!\"\n",
    "#command = \"Set the jelly, John!\"\n",
    "#command = \"Jelly set bongus heading.\"\n",
    "#command = \"Warp 3. Engage.\"\n",
    "#command = \"What's our current heading?\"\n",
    "\n",
    "prompt = \"\"\"HUMAN: You are to act as a verbal command parser on the bridge of a star ship from the Star Trek series.\n",
    "You will be given a command spoken by the captain of the ship. \n",
    "\n",
    "You must determine which command is meant by the input. The possible outputs are [SET HEADING, SET SPEED, GET ENGINE STATUS, GET SPEED, GET HEADING, UNKNOWN]\n",
    "\n",
    "If the command is nonsensical, unclear, or null, then output \\\"UNKNOWN\\\".\n",
    "\n",
    "Respond with the command most appropriate command for the given input.\n",
    "\n",
    "Input:\n",
    "{}\n",
    "ASSISTANT:\"\"\".format(command)\n",
    "print(prompt)\n",
    "logits, probs = get_logits_and_probs(prompt)\n",
    "plot_logits(logits=logits)\n",
    "plt.show()\n",
    "plot_probs(probs)\n",
    "plt.show()\n",
    "plot_most_likely_tokens(probs)\n",
    "plt.show()"
   ]
  },
  {
   "cell_type": "code",
   "execution_count": 9,
   "metadata": {},
   "outputs": [
    {
     "name": "stdout",
     "output_type": "stream",
     "text": [
      "HUMAN: You are to act as a verbal command parser on the bridge of a star ship from the Star Trek series.\n",
      "You will be given a command spoken by the captain of the ship. \n",
      "\n",
      "The command is specifying a heading for the ship. You must output one of the following values [ABSOLUTE, RELATIVE, UNKNOWN]\n",
      "\n",
      "If the heading is absolute, such as 157 mark 250, return \"ABSOLUTE\". If the heading is relative, such as reversing course, then output \"RELATIVE\".\n",
      "\n",
      "If the command is nonsensical, unclear, or null, then output \"UNKNOWN\".\n",
      "\n",
      "Respond with the command most appropriate command for the given input.\n",
      "\n",
      "Input:\n",
      "Bring us about for a moment.\n",
      "ASSISTANT:\n"
     ]
    },
    {
     "name": "stderr",
     "output_type": "stream",
     "text": [
      "/tmp/ipykernel_1622578/998085126.py:7: UserWarning: Implicit dimension choice for softmax has been deprecated. Change the call to include dim=X as an argument.\n",
      "  probs=F.softmax(torch.from_numpy(logits)).numpy()\n"
     ]
    },
    {
     "data": {
      "image/png": "[encoded data removed]",
      "text/plain": [
       "<Figure size 432x288 with 1 Axes>"
      ]
     },
     "metadata": {
      "needs_background": "light"
     },
     "output_type": "display_data"
    },
    {
     "name": "stdout",
     "output_type": "stream",
     "text": [
      "There are 7 tokens outside the 2 smallest bins.\n"
     ]
    },
    {
     "data": {
      "image/png": "[encoded data removed]",
      "text/plain": [
       "<Figure size 432x288 with 1 Axes>"
      ]
     },
     "metadata": {
      "needs_background": "light"
     },
     "output_type": "display_data"
    },
    {
     "name": "stdout",
     "output_type": "stream",
     "text": [
      "Token: b' relative', Prob: 0.00021094159552654775\n",
      "Token: b' Re', Prob: 0.0014870391357755617\n",
      "Token: b' Rel', Prob: 0.0020414075702115185\n",
      "Token: b' Un', Prob: 0.004557014353347458\n",
      "Token: b' A', Prob: 0.19292614804117542\n",
      "Token: b' U', Prob: 0.0002736063089367334\n",
      "Token: b' RE', Prob: 0.556259548429474\n",
      "Token: b' UN', Prob: 0.2321680410203629\n",
      "Token: b' \"', Prob: 0.007169518075817283\n",
      "Token: b' B', Prob: 0.00044983408401003025\n"
     ]
    },
    {
     "data": {
      "image/png": "[encoded data removed]",
      "text/plain": [
       "<Figure size 432x288 with 1 Axes>"
      ]
     },
     "metadata": {
      "needs_background": "light"
     },
     "output_type": "display_data"
    }
   ],
   "source": [
    "#command = \"Don't do anything, John!\"\n",
    "#command = \"John, beegle freegle, would ya?\"\n",
    "#command = \"John, set the heading to 150 mark 190.\"\n",
    "#command = \"Bring us around, John! Reverse course!\"\n",
    "command = \"Bring us about for a moment.\"\n",
    "#command = \"Bring us to full stop, John.\"\n",
    "#command = \"Full stop, John\"\n",
    "#command = \"I love jelly!\"\n",
    "#command = \"John, I love jelly!\"\n",
    "#command = \"Set the jelly, John!\"\n",
    "#command = \"Jelly set bongus heading.\"\n",
    "#command = \"Warp 3. Engage.\"\n",
    "\n",
    "prompt = \"\"\"HUMAN: You are to act as a verbal command parser on the bridge of a star ship from the Star Trek series.\n",
    "You will be given a command spoken by the captain of the ship. \n",
    "\n",
    "The command is specifying a heading for the ship. You must output one of the following values [ABSOLUTE, RELATIVE, UNKNOWN]\n",
    "\n",
    "If the heading is absolute, such as 157 mark 250, return \\\"ABSOLUTE\\\". If the heading is relative, such as reversing course, then output \\\"RELATIVE\\\".\n",
    "\n",
    "If the command is nonsensical, unclear, or null, then output \\\"UNKNOWN\\\".\n",
    "\n",
    "Respond with the command most appropriate command for the given input.\n",
    "\n",
    "Input:\n",
    "{}\n",
    "ASSISTANT:\"\"\".format(command)\n",
    "print(prompt)\n",
    "logits, probs = get_logits_and_probs(prompt)\n",
    "plot_logits(logits=logits)\n",
    "plt.show()\n",
    "plot_probs(probs)\n",
    "plt.show()\n",
    "plot_most_likely_tokens(probs)\n",
    "plt.show()"
   ]
  },
  {
   "cell_type": "code",
   "execution_count": 10,
   "metadata": {},
   "outputs": [
    {
     "name": "stdout",
     "output_type": "stream",
     "text": [
      "HUMAN: You are to act as a statement classifier on the bridge of a star ship from the Star Trek series.\n",
      "You will be given a statement spoken by the captain of the ship. \n",
      "\n",
      "You must classify the input statement. The possible classifications are [REMARK, QUESTION, COMMAND]\n",
      "\n",
      "Answer \"REMARK\" if the statement is a declarative observation such as \"This is a dangerous situation.\"\n",
      "Answer \"QUESTION\" if the statement is a question such as \"What's our current heading?\".\n",
      "Answer \"COMMAND\" if the statement is a command, such as a \"Set our heading to 120 mark 220.\"\n",
      "\n",
      "Respond with the most probable classification for the given input statement.\n",
      "\n",
      "Input:\n",
      "What's our current heading?\n",
      "ASSISTANT:\n"
     ]
    },
    {
     "name": "stderr",
     "output_type": "stream",
     "text": [
      "/tmp/ipykernel_1622578/998085126.py:7: UserWarning: Implicit dimension choice for softmax has been deprecated. Change the call to include dim=X as an argument.\n",
      "  probs=F.softmax(torch.from_numpy(logits)).numpy()\n"
     ]
    },
    {
     "data": {
      "image/png": "[encoded data removed]",
      "text/plain": [
       "<Figure size 432x288 with 1 Axes>"
      ]
     },
     "metadata": {
      "needs_background": "light"
     },
     "output_type": "display_data"
    },
    {
     "name": "stdout",
     "output_type": "stream",
     "text": [
      "There are 1 tokens outside the 2 smallest bins.\n"
     ]
    },
    {
     "data": {
      "image/png": "[encoded data removed]",
      "text/plain": [
       "<Figure size 432x288 with 1 Axes>"
      ]
     },
     "metadata": {
      "needs_background": "light"
     },
     "output_type": "display_data"
    },
    {
     "name": "stdout",
     "output_type": "stream",
     "text": [
      "Token: b' This', Prob: 7.898069193955969e-05\n",
      "Token: b' MAR', Prob: 8.02252984526576e-05\n",
      "Token: b' CO', Prob: 9.084945174436832e-05\n",
      "Token: b' A', Prob: 0.0006876475379584764\n",
      "Token: b' RE', Prob: 0.0010968861133658116\n",
      "Token: b' Q', Prob: 0.9943910591729165\n",
      "Token: b' Question', Prob: 0.001222215190586313\n",
      "Token: b' COM', Prob: 0.000782898311429332\n",
      "Token: b' \"', Prob: 0.0007457185579240362\n",
      "Token: b' question', Prob: 0.00010103894347063447\n"
     ]
    },
    {
     "data": {
      "image/png": "[encoded data removed]",
      "text/plain": [
       "<Figure size 432x288 with 1 Axes>"
      ]
     },
     "metadata": {
      "needs_background": "light"
     },
     "output_type": "display_data"
    }
   ],
   "source": [
    "#command = \"Don't do anything, John!\"\n",
    "#command = \"John, beegle freegle, would ya?\"\n",
    "#command = \"John, set the heading to 150 mark 190.\"\n",
    "#command = \"Bring us around, John! Reverse course!\"\n",
    "#command = \"Bring us to full stop, John.\"\n",
    "#command = \"Full stop, John.\"\n",
    "#command = \"I love jelly!\"\n",
    "#command = \"John, I love jelly!\"\n",
    "#command = \"Set the jelly, John!\"\n",
    "#command = \"Jelly set bongus heading.\"\n",
    "#command = \"Warp 3. Engage.\"\n",
    "command = \"What's our current heading?\"\n",
    "\n",
    "prompt = \"\"\"HUMAN: You are to act as a statement classifier on the bridge of a star ship from the Star Trek series.\n",
    "You will be given a statement spoken by the captain of the ship. \n",
    "\n",
    "You must classify the input statement. The possible classifications are [REMARK, QUESTION, COMMAND]\n",
    "\n",
    "Answer \\\"REMARK\\\" if the statement is a declarative observation such as \"This is a dangerous situation.\"\n",
    "Answer \\\"QUESTION\\\" if the statement is a question such as \"What's our current heading?\".\n",
    "Answer \\\"COMMAND\\\" if the statement is a command, such as a \"Set our heading to 120 mark 220.\"\n",
    "\n",
    "Respond with the most probable classification for the given input statement.\n",
    "\n",
    "Input:\n",
    "{}\n",
    "ASSISTANT:\"\"\".format(command)\n",
    "print(prompt)\n",
    "logits, probs = get_logits_and_probs(prompt)\n",
    "plot_logits(logits=logits)\n",
    "plt.show()\n",
    "plot_probs(probs)\n",
    "plt.show()\n",
    "plot_most_likely_tokens(probs)\n",
    "plt.show()"
   ]
  },
  {
   "cell_type": "code",
   "execution_count": 24,
   "metadata": {},
   "outputs": [
    {
     "name": "stdout",
     "output_type": "stream",
     "text": [
      "HUMAN: You are to act as a statement classifier on the bridge of a star ship from the Star Trek series.\n",
      "You will be given a statement spoken by the captain of the ship. \n",
      "\n",
      "You must classify the INPUT. The possible classifications are [QUESTION, OTHER]\n",
      "\n",
      "Answer \"QUESTION\" if the INPUT is QUESTION such as \"What's our current heading?\".\n",
      "Answer \"OTHER\" if the INPUT is OTHER, such as a \"Set our heading to 120 mark 220.\"\n",
      "\n",
      "Output the most probable classification for the INPUT.\n",
      "\n",
      "INPUT:\n",
      "Warp 3. Engage.\n",
      "ASSISTANT:\n"
     ]
    },
    {
     "name": "stderr",
     "output_type": "stream",
     "text": [
      "/tmp/ipykernel_1622578/998085126.py:7: UserWarning: Implicit dimension choice for softmax has been deprecated. Change the call to include dim=X as an argument.\n",
      "  probs=F.softmax(torch.from_numpy(logits)).numpy()\n"
     ]
    },
    {
     "data": {
      "image/png": "[encoded data removed]",
      "text/plain": [
       "<Figure size 432x288 with 1 Axes>"
      ]
     },
     "metadata": {
      "needs_background": "light"
     },
     "output_type": "display_data"
    },
    {
     "name": "stdout",
     "output_type": "stream",
     "text": [
      "There are 4 tokens outside the 2 smallest bins.\n"
     ]
    },
    {
     "data": {
      "image/png": "[encoded data removed]",
      "text/plain": [
       "<Figure size 432x288 with 1 Axes>"
      ]
     },
     "metadata": {
      "needs_background": "light"
     },
     "output_type": "display_data"
    },
    {
     "name": "stdout",
     "output_type": "stream",
     "text": [
      "Token: b' R', Prob: 9.651233189575116e-05\n",
      "Token: b' Ot', Prob: 0.00015338198477215105\n",
      "Token: b' The', Prob: 0.00018502334146851553\n",
      "Token: b' W', Prob: 0.00021988688410202578\n",
      "Token: b' O', Prob: 0.33634386406997485\n",
      "Token: b' \"', Prob: 0.00031510441275156613\n",
      "Token: b' Other', Prob: 0.006797138621382653\n",
      "Token: b' It', Prob: 0.00024530692594638986\n",
      "Token: b' Question', Prob: 0.0026680192078675524\n",
      "Token: b' Q', Prob: 0.6512372012564257\n"
     ]
    },
    {
     "data": {
      "image/png": "[encoded data removed]",
      "text/plain": [
       "<Figure size 432x288 with 1 Axes>"
      ]
     },
     "metadata": {
      "needs_background": "light"
     },
     "output_type": "display_data"
    }
   ],
   "source": [
    "#command = \"Don't do anything, John!\"\n",
    "#command = \"John, beegle freegle, would ya?\"\n",
    "#command = \"John, set the heading to 150 mark 190.\"\n",
    "#command = \"Bring us around, John! Reverse course!\"\n",
    "#command = \"Bring us to full stop, John.\"\n",
    "#command = \"Full stop, John.\"\n",
    "#command = \"I love jelly!\"\n",
    "#command = \"John, I love jelly!\"\n",
    "#command = \"Set the jelly, John!\"\n",
    "#command = \"Jelly set bongus heading.\"\n",
    "command = \"Warp 3. Engage.\"\n",
    "#command = \"What's our current heading?\"\n",
    "\n",
    "prompt = \"\"\"HUMAN: You are to act as a statement classifier on the bridge of a star ship from the Star Trek series.\n",
    "You will be given a statement spoken by the captain of the ship. \n",
    "\n",
    "You must classify the INPUT. The possible classifications are [QUESTION, OTHER]\n",
    "\n",
    "Answer \"QUESTION\" if the INPUT is QUESTION such as \"What's our current heading?\".\n",
    "Answer \"OTHER\" if the INPUT is OTHER, such as a \"Set our heading to 120 mark 220.\"\n",
    "\n",
    "Output the most probable classification for the INPUT.\n",
    "\n",
    "INPUT:\n",
    "{}\n",
    "ASSISTANT:\"\"\".format(command)\n",
    "print(prompt)\n",
    "logits, probs = get_logits_and_probs(prompt)\n",
    "plot_logits(logits=logits)\n",
    "plt.show()\n",
    "plot_probs(probs)\n",
    "plt.show()\n",
    "plot_most_likely_tokens(probs)\n",
    "plt.show()"
   ]
  },
  {
   "cell_type": "code",
   "execution_count": 12,
   "metadata": {},
   "outputs": [
    {
     "name": "stdout",
     "output_type": "stream",
     "text": [
      "HUMAN: Answer YES if the phrase is a question such as \"What's our current heading?\". Answer NO if the phrase is not a question, such as a \"Set our heading to 120 mark 220.\"\n",
      "PHRASE: Do you play the bongos?\n",
      "ASSISTANT: YES\n",
      "HUMAN: Answer YES if the phrase is a question such as \"What's our current heading?\". Answer NO if the phrase is not a question, such as a \"Set our heading to 120 mark 220.\"\n",
      "PHRASE: Hey, grab the binkies.\n",
      "ASSISTANT: NO\n",
      "HUMAN: Answer YES if the phrase is a question such as \"What's our current heading?\". Answer NO if the phrase is not a question, such as a \"Set our heading to 120 mark 220.\"\n",
      "PHRASE: What's our current heading?\n",
      "ASSISTANT: \n"
     ]
    },
    {
     "name": "stderr",
     "output_type": "stream",
     "text": [
      "/tmp/ipykernel_1622578/998085126.py:7: UserWarning: Implicit dimension choice for softmax has been deprecated. Change the call to include dim=X as an argument.\n",
      "  probs=F.softmax(torch.from_numpy(logits)).numpy()\n"
     ]
    },
    {
     "data": {
      "image/png": "[encoded data removed]",
      "text/plain": [
       "<Figure size 432x288 with 1 Axes>"
      ]
     },
     "metadata": {
      "needs_background": "light"
     },
     "output_type": "display_data"
    },
    {
     "name": "stdout",
     "output_type": "stream",
     "text": [
      "There are 11 tokens outside the 2 smallest bins.\n"
     ]
    },
    {
     "data": {
      "image/png": "[encoded data removed]",
      "text/plain": [
       "<Figure size 432x288 with 1 Axes>"
      ]
     },
     "metadata": {
      "needs_background": "light"
     },
     "output_type": "display_data"
    },
    {
     "name": "stdout",
     "output_type": "stream",
     "text": [
      "Token: b'\\n', Prob: 0.003980216930385246\n",
      "Token: b'4', Prob: 0.008272636795159917\n",
      "Token: b'3', Prob: 0.01320212352170436\n",
      "Token: b'7', Prob: 0.006744438368892054\n",
      "Token: b'8', Prob: 0.016790900984963913\n",
      "Token: b'2', Prob: 0.030649931296602838\n",
      "Token: b'9', Prob: 0.01719698886782115\n",
      "Token: b'6', Prob: 0.05679107770033627\n",
      "Token: b'0', Prob: 0.08727456783814738\n",
      "Token: b'1', Prob: 0.7558262658245731\n"
     ]
    },
    {
     "data": {
      "image/png": "[encoded data removed]",
      "text/plain": [
       "<Figure size 432x288 with 1 Axes>"
      ]
     },
     "metadata": {
      "needs_background": "light"
     },
     "output_type": "display_data"
    }
   ],
   "source": [
    "#command = \"Don't do anything, John!\"\n",
    "#command = \"John, beegle freegle, would ya?\"\n",
    "#command = \"John, set the heading to 150 mark 190.\"\n",
    "#command = \"Bring us around, John! Reverse course!\"\n",
    "#command = \"Bring us to full stop, John.\"\n",
    "#command = \"Full stop, John.\"\n",
    "#command = \"I love jelly!\"\n",
    "#command = \"John, I love jelly!\"\n",
    "#command = \"Set the jelly, John!\"\n",
    "#command = \"Jelly set bongus heading.\"\n",
    "#command = \"Warp 3. Engage.\"\n",
    "#command = \"Does your planet have toilets?\"\n",
    "command = \"What's our current heading?\"\n",
    "\n",
    "prompt = \"\"\"HUMAN: Answer YES if the phrase is a question such as \"What's our current heading?\". Answer NO if the phrase is not a question, such as a \"Set our heading to 120 mark 220.\"\n",
    "PHRASE: Do you play the bongos?\n",
    "ASSISTANT: YES\n",
    "HUMAN: Answer YES if the phrase is a question such as \"What's our current heading?\". Answer NO if the phrase is not a question, such as a \"Set our heading to 120 mark 220.\"\n",
    "PHRASE: Hey, grab the binkies.\n",
    "ASSISTANT: NO\n",
    "HUMAN: Answer YES if the phrase is a question such as \"What's our current heading?\". Answer NO if the phrase is not a question, such as a \"Set our heading to 120 mark 220.\"\n",
    "PHRASE: {}\n",
    "ASSISTANT: \"\"\".format(command)\n",
    "print(prompt)\n",
    "logits, probs = get_logits_and_probs(prompt)\n",
    "plot_logits(logits=logits)\n",
    "plt.show()\n",
    "plot_probs(probs)\n",
    "plt.show()\n",
    "plot_most_likely_tokens(probs)\n",
    "plt.show()"
   ]
  }
 ],
 "metadata": {
  "kernelspec": {
   "display_name": "textgen",
   "language": "python",
   "name": "python3"
  },
  "language_info": {
   "codemirror_mode": {
    "name": "ipython",
    "version": 3
   },
   "file_extension": ".py",
   "mimetype": "text/x-python",
   "name": "python",
   "nbconvert_exporter": "python",
   "pygments_lexer": "ipython3",
   "version": "3.10.9"
  },
  "orig_nbformat": 4
 },
 "nbformat": 4,
 "nbformat_minor": 2
}
