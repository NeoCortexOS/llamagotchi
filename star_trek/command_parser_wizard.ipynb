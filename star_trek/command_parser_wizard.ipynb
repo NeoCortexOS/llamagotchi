{
 "cells": [
  {
   "cell_type": "code",
   "execution_count": 2,
   "metadata": {},
   "outputs": [],
   "source": [
    "from llama_cpp import Llama\n",
    "import numpy as np\n",
    "from matplotlib import pyplot as plt\n",
    "import ctypes\n",
    "import torch\n",
    "from torch.nn import functional as F"
   ]
  },
  {
   "cell_type": "code",
   "execution_count": 3,
   "metadata": {},
   "outputs": [
    {
     "name": "stderr",
     "output_type": "stream",
     "text": [
      "llama.cpp: loading model from /media/captdishwasher/Samshmung/horenbergerb/llama/llama.cpp/models/WizardLM-13B-Uncensored-Q5_1-GGML/WizardML-Unc-13b-Q5_1.bin\n",
      "llama_model_load_internal: format     = ggjt v1 (latest)\n",
      "llama_model_load_internal: n_vocab    = 32001\n",
      "llama_model_load_internal: n_ctx      = 2048\n",
      "llama_model_load_internal: n_embd     = 5120\n",
      "llama_model_load_internal: n_mult     = 256\n",
      "llama_model_load_internal: n_head     = 40\n",
      "llama_model_load_internal: n_layer    = 40\n",
      "llama_model_load_internal: n_rot      = 128\n",
      "llama_model_load_internal: ftype      = 9 (mostly Q5_1)\n",
      "llama_model_load_internal: n_ff       = 13824\n",
      "llama_model_load_internal: n_parts    = 1\n",
      "llama_model_load_internal: model size = 13B\n",
      "llama_model_load_internal: ggml ctx size = 9534512.58 KB\n",
      "llama_model_load_internal: mem required  = 11359.05 MB (+ 1608.00 MB per state)\n",
      "..."
     ]
    },
    {
     "name": "stdout",
     "output_type": "stream",
     "text": [
      "\n",
      "Initializing CLBlast (First Run)...\n",
      "Attempting to use: Platform=0, Device=0 (If invalid, program will crash)\n",
      "Using Platform: NVIDIA CUDA Device: NVIDIA GeForce RTX 3060 Ti\n"
     ]
    },
    {
     "name": "stderr",
     "output_type": "stream",
     "text": [
      ".................................................................................................\n",
      "llama_init_from_file: kv self size  = 1600.00 MB\n",
      "AVX = 1 | AVX2 = 1 | AVX512 = 0 | AVX512_VBMI = 0 | AVX512_VNNI = 0 | FMA = 1 | NEON = 0 | ARM_FMA = 0 | F16C = 1 | FP16_VA = 0 | WASM_SIMD = 0 | BLAS = 1 | SSE3 = 1 | VSX = 0 | \n"
     ]
    }
   ],
   "source": [
    "model_bin = \"/media/captdishwasher/Samshmung/horenbergerb/llama/llama.cpp/models/WizardLM-13B-Uncensored-Q5_1-GGML/WizardML-Unc-13b-Q5_1.bin\"\n",
    "\n",
    "LLM = Llama(model_path=model_bin, n_ctx=2048, n_threads=7, use_mmap=False, n_batch=512)"
   ]
  },
  {
   "cell_type": "code",
   "execution_count": 4,
   "metadata": {},
   "outputs": [],
   "source": [
    "def get_logits_and_probs(prompt):\n",
    "    tokens = LLM.tokenize(prompt.encode('utf-8'))\n",
    "    LLM.reset()\n",
    "    LLM.eval(tokens)\n",
    "    logits = LLM.eval_logits\n",
    "    logits = np.array(logits[0])\n",
    "    probs=F.softmax(torch.from_numpy(logits)).numpy()\n",
    "    return logits, probs"
   ]
  },
  {
   "cell_type": "code",
   "execution_count": 5,
   "metadata": {},
   "outputs": [],
   "source": [
    "def plot_logits(logits, bins=50):\n",
    "    counts, bins = np.histogram(logits, bins=bins)\n",
    "    plt.stairs(counts, bins)\n",
    "    plt.title('Histogram of logits')"
   ]
  },
  {
   "cell_type": "code",
   "execution_count": 6,
   "metadata": {},
   "outputs": [],
   "source": [
    "def plot_probs(probs, bins=1000, bins_to_skip=2):\n",
    "    counts, bins = np.histogram(probs, bins=bins)\n",
    "    # Observing that the vast majority of tokens are in the first bin, i.e. have incredibly small probability.\n",
    "    print('There are {} tokens outside the {} smallest bins.'.format(len(np.where(probs>bins[bins_to_skip])[0]), bins_to_skip))\n",
    "    # Don't plot the smallest bins since they are not interesting and dwarf all other bins\n",
    "    plt.stairs(counts[bins_to_skip:], bins[bins_to_skip:])\n",
    "    plt.title('Histogram of Token Probabilities')"
   ]
  },
  {
   "cell_type": "code",
   "execution_count": 7,
   "metadata": {},
   "outputs": [],
   "source": [
    "def plot_most_likely_tokens(probs, num_tokens_to_plot=10):\n",
    "    ind = np.argpartition(probs, -num_tokens_to_plot)[-num_tokens_to_plot:]\n",
    "\n",
    "    likely_tokens = []\n",
    "    token_probs = []\n",
    "\n",
    "    for token in ind:\n",
    "        c_token = [(ctypes.c_int)(*[token])]\n",
    "        print('Token: {}, Prob: {}'.format(LLM.detokenize(c_token), probs[token]))\n",
    "        # print('Token: {} Detokenized: {}'.format(token, LLM.detokenize(c_token)))\n",
    "        likely_tokens.append(LLM.detokenize(c_token))\n",
    "        token_probs.append(probs[token])\n",
    "\n",
    "    plt.bar(likely_tokens, token_probs)\n",
    "    plt.title('Bar chart of 10 most likely tokens')"
   ]
  },
  {
   "cell_type": "code",
   "execution_count": 14,
   "metadata": {},
   "outputs": [
    {
     "name": "stdout",
     "output_type": "stream",
     "text": [
      "I am going to give you a command, and you are going to classify it. The possible classifications are Heading, Speed, and Unknown. Respond \"Classification: X\" where X is the most likely classification. The input command is \"Set the jelly, John!\"\n",
      "\n",
      "### Response:Classification:\n"
     ]
    },
    {
     "name": "stderr",
     "output_type": "stream",
     "text": [
      "/tmp/ipykernel_2236693/2195467913.py:7: UserWarning: Implicit dimension choice for softmax has been deprecated. Change the call to include dim=X as an argument.\n",
      "  probs=F.softmax(torch.from_numpy(logits)).numpy()\n"
     ]
    },
    {
     "data": {
      "image/png": "[encoded data removed]",
      "text/plain": [
       "<Figure size 432x288 with 1 Axes>"
      ]
     },
     "metadata": {
      "needs_background": "light"
     },
     "output_type": "display_data"
    },
    {
     "name": "stdout",
     "output_type": "stream",
     "text": [
      "There are 4 tokens outside the 2 smallest bins.\n"
     ]
    },
    {
     "data": {
      "image/png": "[encoded data removed]",
      "text/plain": [
       "<Figure size 432x288 with 1 Axes>"
      ]
     },
     "metadata": {
      "needs_background": "light"
     },
     "output_type": "display_data"
    },
    {
     "name": "stdout",
     "output_type": "stream",
     "text": [
      "Token: b' Setting', Prob: 1.4688126494310248e-05\n",
      "Token: b' speed', Prob: 3.393249551872772e-05\n",
      "Token: b' He', Prob: 0.025935533296714698\n",
      "Token: b'speed', Prob: 3.4303614731546964e-05\n",
      "Token: b' Un', Prob: 0.6737261672024591\n",
      "Token: b' Head', Prob: 0.001249458552090516\n",
      "Token: b' J', Prob: 5.044849261474508e-05\n",
      "Token: b' Speed', Prob: 0.29343119301922055\n",
      "Token: b' Spe', Prob: 0.005265496365311606\n",
      "Token: b'Speed', Prob: 0.0001790052604874737\n"
     ]
    },
    {
     "data": {
      "image/png": "[encoded data removed]",
      "text/plain": [
       "<Figure size 432x288 with 1 Axes>"
      ]
     },
     "metadata": {
      "needs_background": "light"
     },
     "output_type": "display_data"
    }
   ],
   "source": [
    "#command = \"Don't do anything, John!\"\n",
    "#command = \"John, beegle freegle, would ya?\"\n",
    "#command = \"John, set the heading to 150 mark 190.\"\n",
    "#command = \"Bring us around, John! Reverse course!\"\n",
    "#command = \"Bring us to full stop, John.\"\n",
    "#command = \"Full stop, John\"\n",
    "#command = \"I love jelly!\"\n",
    "#command = \"John, I love jelly!\"\n",
    "command = \"Set the jelly, John!\"\n",
    "#command = \"Jelly set bongus heading.\"\n",
    "\n",
    "prompt = \"\"\"I am going to give you a command, and you are going to classify it. The possible classifications are Heading, Speed, and Unknown. Respond \"Classification: X\" where X is the most likely classification. The input command is \"{}\"\n",
    "\n",
    "### Response:Classification:\"\"\".format(command)\n",
    "print(prompt)\n",
    "logits, probs = get_logits_and_probs(prompt)\n",
    "plot_logits(logits=logits)\n",
    "plt.show()\n",
    "plot_probs(probs)\n",
    "plt.show()\n",
    "plot_most_likely_tokens(probs)\n",
    "plt.show()"
   ]
  },
  {
   "cell_type": "code",
   "execution_count": 9,
   "metadata": {},
   "outputs": [
    {
     "name": "stdout",
     "output_type": "stream",
     "text": [
      "I am going to give you a statement, and you are going to classify it. The possible classifications are Remark, Question, and Command. Respond \"Classification: X\" where X is the most likely classification. The input statement is \"John, I love jelly!\"\n",
      "\n",
      "### Response:Classification:\n"
     ]
    },
    {
     "name": "stderr",
     "output_type": "stream",
     "text": [
      "/tmp/ipykernel_2236693/2195467913.py:7: UserWarning: Implicit dimension choice for softmax has been deprecated. Change the call to include dim=X as an argument.\n",
      "  probs=F.softmax(torch.from_numpy(logits)).numpy()\n"
     ]
    },
    {
     "data": {
      "image/png": "[encoded data removed]",
      "text/plain": [
       "<Figure size 432x288 with 1 Axes>"
      ]
     },
     "metadata": {
      "needs_background": "light"
     },
     "output_type": "display_data"
    },
    {
     "name": "stdout",
     "output_type": "stream",
     "text": [
      "There are 4 tokens outside the 2 smallest bins.\n"
     ]
    },
    {
     "data": {
      "image/png": "[encoded data removed]",
      "text/plain": [
       "<Figure size 432x288 with 1 Axes>"
      ]
     },
     "metadata": {
      "needs_background": "light"
     },
     "output_type": "display_data"
    },
    {
     "name": "stdout",
     "output_type": "stream",
     "text": [
      "Token: b'Rem', Prob: 1.3198496099088237e-05\n",
      "Token: b' Jo', Prob: 1.4427416153334316e-05\n",
      "Token: b' statement', Prob: 2.576627132145427e-05\n",
      "Token: b' J', Prob: 7.08525540643058e-05\n",
      "Token: b' Stat', Prob: 0.010602868546922483\n",
      "Token: b' Rem', Prob: 0.9128632461498466\n",
      "Token: b' Comment', Prob: 3.827807984198497e-05\n",
      "Token: b' Question', Prob: 0.07261683977567723\n",
      "Token: b' X', Prob: 0.0007305604355389976\n",
      "Token: b' Command', Prob: 0.0029078996175439073\n"
     ]
    },
    {
     "data": {
      "image/png": "[encoded data removed]",
      "text/plain": [
       "<Figure size 432x288 with 1 Axes>"
      ]
     },
     "metadata": {
      "needs_background": "light"
     },
     "output_type": "display_data"
    }
   ],
   "source": [
    "#command = \"Don't do anything, John!\"\n",
    "#command = \"John, beegle freegle, would ya?\"\n",
    "#command = \"John, set the heading to 150 mark 190.\"\n",
    "#command = \"Bring us around, John! Reverse course!\"\n",
    "#command = \"We've got our hands full today.\"\n",
    "#command = \"Bring us to full stop, John.\"\n",
    "#command = \"Full stop, John.\"\n",
    "#command = \"I love jelly!\"\n",
    "command = \"John, I love jelly!\"\n",
    "#command = \"Set the jelly, John!\"\n",
    "#command = \"Jelly set bongus heading.\"\n",
    "#command = \"Warp 3. Engage.\"\n",
    "#command = \"What's our current heading?\"\n",
    "\n",
    "prompt = \"\"\"I am going to give you a statement, and you are going to classify it. The possible classifications are Remark, Question, and Command. Respond \"Classification: X\" where X is the most likely classification. The input statement is \"{}\"\n",
    "\n",
    "### Response:Classification:\"\"\".format(command)\n",
    "print(prompt)\n",
    "logits, probs = get_logits_and_probs(prompt)\n",
    "plot_logits(logits=logits)\n",
    "plt.show()\n",
    "plot_probs(probs)\n",
    "plt.show()\n",
    "plot_most_likely_tokens(probs)\n",
    "plt.show()"
   ]
  }
 ],
 "metadata": {
  "kernelspec": {
   "display_name": "textgen",
   "language": "python",
   "name": "python3"
  },
  "language_info": {
   "codemirror_mode": {
    "name": "ipython",
    "version": 3
   },
   "file_extension": ".py",
   "mimetype": "text/x-python",
   "name": "python",
   "nbconvert_exporter": "python",
   "pygments_lexer": "ipython3",
   "version": "3.10.9"
  },
  "orig_nbformat": 4
 },
 "nbformat": 4,
 "nbformat_minor": 2
}
