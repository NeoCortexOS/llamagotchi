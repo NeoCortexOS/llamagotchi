{
 "cells": [
  {
   "cell_type": "code",
   "execution_count": 1,
   "metadata": {},
   "outputs": [],
   "source": [
    "from llama_cpp import Llama\n",
    "import numpy as np\n",
    "from matplotlib import pyplot as plt\n",
    "import ctypes\n",
    "import torch\n",
    "from torch.nn import functional as F"
   ]
  },
  {
   "cell_type": "code",
   "execution_count": 10,
   "metadata": {},
   "outputs": [],
   "source": [
    "def get_logits_and_probs(LLM, prompt):\n",
    "    tokens = LLM.tokenize(prompt.encode('utf-8'))\n",
    "    LLM.reset()\n",
    "    LLM.eval(tokens)\n",
    "    logits = LLM.eval_logits\n",
    "    logits = np.array(logits[0])\n",
    "    probs=F.softmax(torch.from_numpy(logits)).numpy()\n",
    "    return logits, probs"
   ]
  },
  {
   "cell_type": "code",
   "execution_count": 3,
   "metadata": {},
   "outputs": [],
   "source": [
    "def plot_logits(logits, bins=50):\n",
    "    counts, bins = np.histogram(logits, bins=bins)\n",
    "    plt.stairs(counts, bins)\n",
    "    plt.title('Histogram of logits')"
   ]
  },
  {
   "cell_type": "code",
   "execution_count": 29,
   "metadata": {},
   "outputs": [],
   "source": [
    "def plot_probs(probs, bins=10, bins_to_skip=1):\n",
    "    counts, bins = np.histogram(probs, bins=bins)\n",
    "    # Observing that the vast majority of tokens are in the first bin, i.e. have incredibly small probability.\n",
    "    print('There are {} tokens outside the {} smallest bins.'.format(len(np.where(probs>bins[bins_to_skip])[0]), bins_to_skip))\n",
    "    # Don't plot the smallest bins since they are not interesting and dwarf all other bins\n",
    "    plt.stairs(counts[bins_to_skip:], bins[bins_to_skip:])\n",
    "    plt.title('Histogram of Token Probabilities')"
   ]
  },
  {
   "cell_type": "code",
   "execution_count": 5,
   "metadata": {},
   "outputs": [],
   "source": [
    "def plot_most_likely_tokens(LLM, probs, num_tokens_to_plot=10):\n",
    "    ind = np.argpartition(probs, -num_tokens_to_plot)[-num_tokens_to_plot:]\n",
    "\n",
    "    likely_tokens = []\n",
    "    token_probs = []\n",
    "\n",
    "    for token in ind:\n",
    "        c_token = [(ctypes.c_int)(*[token])]\n",
    "        print('Token: {}, Prob: {}'.format(LLM.detokenize(c_token), probs[token]))\n",
    "        likely_tokens.append(LLM.detokenize(c_token))\n",
    "        token_probs.append(probs[token])\n",
    "\n",
    "    plt.bar(likely_tokens, token_probs)\n",
    "    plt.title('Bar chart of 10 most likely tokens')"
   ]
  },
  {
   "cell_type": "code",
   "execution_count": 6,
   "metadata": {},
   "outputs": [],
   "source": [
    "def greedy_response_search(LLM, prompt, depth=2, num_tokens=2):\n",
    "    '''Take the {num_tokens} most likely tokens, then for each token, find the {num_tokens} most likely tokens. Repeat {depth} times'''\n",
    "    responses = [prompt]\n",
    "    response_probs = [1.0]\n",
    "    for cur in range(0, depth):\n",
    "        next_responses = []\n",
    "        next_probs = []\n",
    "        for ind, response in enumerate(responses):\n",
    "            #print('evaluating:')\n",
    "            #print(response)\n",
    "            tokens = LLM.tokenize(response.encode('utf-8'))\n",
    "            LLM.reset()\n",
    "            LLM.eval(tokens)\n",
    "            logits = LLM._logits()\n",
    "            logits = np.array(logits[0])\n",
    "            probs=F.softmax(torch.from_numpy(logits)).numpy()\n",
    "            for next_token in np.argpartition(logits, -num_tokens)[-num_tokens:]:\n",
    "                c_token = [(ctypes.c_int)(*[next_token])]\n",
    "                # print('Token: {} Detokenized: {}'.format(token, LLM.detokenize(c_token)))\n",
    "                #print('Found token: {}'.format(LLM.detokenize(c_token).decode(\"utf-8\")))\n",
    "                next_responses.append(response + LLM.detokenize(c_token).decode(\"utf-8\"))\n",
    "                next_probs.append(response_probs[ind]*probs[next_token])\n",
    "        responses = next_responses\n",
    "        response_probs = next_probs\n",
    "    responses = [x[len(prompt):] for x in responses]\n",
    "    return responses, response_probs"
   ]
  },
  {
   "cell_type": "code",
   "execution_count": null,
   "metadata": {},
   "outputs": [],
   "source": [
    "def count_tokens_with_prob_above_threshold_during_generation(LLM, prompt, depth, threshold):\n",
    "    '''Generate {depth} tokens. For each generation, count the nubmer of tokens with probability above {threshold}.'''\n",
    "    responses = [prompt]\n",
    "    \n",
    "    for cur in range(0, depth):\n",
    "        next_responses = []\n",
    "        next_probs = []\n",
    "        for ind, response in enumerate(responses):\n",
    "            #print('evaluating:')\n",
    "            #print(response)\n",
    "            tokens = LLM.tokenize(response.encode('utf-8'))\n",
    "            LLM.reset()\n",
    "            LLM.eval(tokens)\n",
    "            logits = LLM._logits()\n",
    "            logits = np.array(logits[0])\n",
    "            probs=F.softmax(torch.from_numpy(logits)).numpy()\n",
    "            for next_token in np.argpartition(logits, -num_tokens)[-num_tokens:]:\n",
    "                c_token = [(ctypes.c_int)(*[next_token])]\n",
    "                # print('Token: {} Detokenized: {}'.format(token, LLM.detokenize(c_token)))\n",
    "                #print('Found token: {}'.format(LLM.detokenize(c_token).decode(\"utf-8\")))\n",
    "                next_responses.append(response + LLM.detokenize(c_token).decode(\"utf-8\"))\n",
    "                next_probs.append(response_probs[ind]*probs[next_token])\n",
    "        responses = next_responses\n",
    "        response_probs = next_probs\n",
    "    responses = [x[len(prompt):] for x in responses]\n",
    "    return responses, response_probs"
   ]
  },
  {
   "cell_type": "code",
   "execution_count": 17,
   "metadata": {},
   "outputs": [],
   "source": [
    "def get_mean_and_std_dev(probs):\n",
    "    print('Mean: {}, Std Dev: {}'.format(np.mean(probs), np.std(probs)))"
   ]
  },
  {
   "cell_type": "code",
   "execution_count": 37,
   "metadata": {},
   "outputs": [],
   "source": [
    "prompt = \"\"\"Write a scifi novel about a version of earth where humans procreate using a special kind of vegetable, but there's a blight killing off the vegetable.\"\"\"\n",
    "#prompt = \"\"\"Write a profound fantasy story about a weird little gremlin who just wants to fit in with his peers. He proves himself by defending the goblin village from a passing knight. Be creative and detailed, using vivid imagery and plenty of dialogue. Introduce characters as necessary. Don't use tropes.\"\"\""
   ]
  },
  {
   "cell_type": "code",
   "execution_count": 35,
   "metadata": {},
   "outputs": [
    {
     "name": "stderr",
     "output_type": "stream",
     "text": [
      "llama.cpp: loading model from /media/captdishwasher/Samshmung/horenbergerb/llama/llama.cpp/models/VicUnlocked-30B-LoRA.ggml.q5_0.bin\n",
      "llama_model_load_internal: format     = ggjt v2 (latest)\n",
      "llama_model_load_internal: n_vocab    = 32000\n",
      "llama_model_load_internal: n_ctx      = 2048\n",
      "llama_model_load_internal: n_embd     = 6656\n",
      "llama_model_load_internal: n_mult     = 256\n",
      "llama_model_load_internal: n_head     = 52\n",
      "llama_model_load_internal: n_layer    = 60\n",
      "llama_model_load_internal: n_rot      = 128\n",
      "llama_model_load_internal: ftype      = 8 (mostly Q5_0)\n",
      "llama_model_load_internal: n_ff       = 17920\n",
      "llama_model_load_internal: n_parts    = 1\n",
      "llama_model_load_internal: model size = 30B\n",
      "llama_model_load_internal: ggml ctx size = 135.75 KB\n",
      "llama_model_load_internal: mem required  = 23634.31 MB (+ 3124.00 MB per state)\n",
      "llama_model_load_internal: [cublas] offloading 0 layers to GPU\n",
      "llama_model_load_internal: [cublas] total VRAM used: 0 MB\n",
      "llama_init_from_file: kv self size  = 3120.00 MB\n",
      "AVX = 1 | AVX2 = 1 | AVX512 = 0 | AVX512_VBMI = 0 | AVX512_VNNI = 0 | FMA = 1 | NEON = 0 | ARM_FMA = 0 | F16C = 1 | FP16_VA = 0 | WASM_SIMD = 0 | BLAS = 1 | SSE3 = 1 | VSX = 0 | \n"
     ]
    }
   ],
   "source": [
    "model_bin = \"/media/captdishwasher/Samshmung/horenbergerb/llama/llama.cpp/models/VicUnlocked-30B-LoRA.ggml.q5_0.bin\"\n",
    "LLM = Llama(model_path=model_bin, n_ctx=2048, n_threads=7, n_batch=512)"
   ]
  },
  {
   "cell_type": "code",
   "execution_count": 38,
   "metadata": {},
   "outputs": [
    {
     "name": "stderr",
     "output_type": "stream",
     "text": [
      "/tmp/ipykernel_719270/2381194746.py:7: UserWarning: Implicit dimension choice for softmax has been deprecated. Change the call to include dim=X as an argument.\n",
      "  probs=F.softmax(torch.from_numpy(logits)).numpy()\n"
     ]
    },
    {
     "data": {
      "image/png": "[encoded data removed]",
      "text/plain": [
       "<Figure size 432x288 with 1 Axes>"
      ]
     },
     "metadata": {
      "needs_background": "light"
     },
     "output_type": "display_data"
    },
    {
     "name": "stdout",
     "output_type": "stream",
     "text": [
      "There are 7 tokens outside the 1 smallest bins.\n"
     ]
    },
    {
     "data": {
      "image/png": "[encoded data removed]",
      "text/plain": [
       "<Figure size 432x288 with 1 Axes>"
      ]
     },
     "metadata": {
      "needs_background": "light"
     },
     "output_type": "display_data"
    },
    {
     "name": "stdout",
     "output_type": "stream",
     "text": [
      "Token: b' ', Prob: 0.010554189529064152\n",
      "Token: b' The', Prob: 0.1142727017210929\n",
      "Token: b' Here', Prob: 0.04552169384042618\n",
      "Token: b' Sure', Prob: 0.10933925496598586\n",
      "Token: b' Chapter', Prob: 0.14515160783790143\n",
      "Token: b' Title', Prob: 0.2828708123852987\n",
      "Token: b' \"', Prob: 0.0720796878367604\n",
      "Token: b' As', Prob: 0.019646607016644564\n",
      "Token: b' Once', Prob: 0.01311064731243568\n",
      "Token: b' In', Prob: 0.0631994677992509\n"
     ]
    },
    {
     "data": {
      "image/png": "[encoded data removed]",
      "text/plain": [
       "<Figure size 432x288 with 1 Axes>"
      ]
     },
     "metadata": {
      "needs_background": "light"
     },
     "output_type": "display_data"
    },
    {
     "name": "stdout",
     "output_type": "stream",
     "text": [
      "Mean: 3.125000000000006e-05, Std Dev: 0.002079641261615858\n"
     ]
    }
   ],
   "source": [
    "vicunlocked_prompt_format = \"\"\"<s>A chat between a curious user and an artificial intelligence assistant. The assistant gives helpful, detailed, and polite answers to the user's questions.\n",
    "\n",
    "USER: {prompt}\n",
    "ASSISTANT:\"\"\"\n",
    "\n",
    "logits, probs = get_logits_and_probs(LLM, vicunlocked_prompt_format.format(prompt=prompt))\n",
    "plot_logits(logits=logits)\n",
    "plt.show()\n",
    "plot_probs(probs)\n",
    "plt.show()\n",
    "plot_most_likely_tokens(LLM, probs)\n",
    "plt.show()\n",
    "get_mean_and_std_dev(probs)"
   ]
  },
  {
   "cell_type": "code",
   "execution_count": 39,
   "metadata": {},
   "outputs": [
    {
     "name": "stderr",
     "output_type": "stream",
     "text": [
      "llama.cpp: loading model from /media/captdishwasher/Samshmung/horenbergerb/llama/llama.cpp/models/wizard-mega-13b_ggml_q4_0.bin\n",
      "llama_model_load_internal: format     = ggjt v2 (latest)\n",
      "llama_model_load_internal: n_vocab    = 32000\n",
      "llama_model_load_internal: n_ctx      = 2048\n",
      "llama_model_load_internal: n_embd     = 5120\n",
      "llama_model_load_internal: n_mult     = 256\n",
      "llama_model_load_internal: n_head     = 40\n",
      "llama_model_load_internal: n_layer    = 40\n",
      "llama_model_load_internal: n_rot      = 128\n",
      "llama_model_load_internal: ftype      = 2 (mostly Q4_0)\n",
      "llama_model_load_internal: n_ff       = 13824\n",
      "llama_model_load_internal: n_parts    = 1\n",
      "llama_model_load_internal: model size = 13B\n",
      "llama_model_load_internal: ggml ctx size =  90.75 KB\n",
      "llama_model_load_internal: mem required  = 9807.48 MB (+ 1608.00 MB per state)\n",
      "llama_model_load_internal: [cublas] offloading 0 layers to GPU\n",
      "llama_model_load_internal: [cublas] total VRAM used: 0 MB\n",
      "llama_init_from_file: kv self size  = 1600.00 MB\n",
      "AVX = 1 | AVX2 = 1 | AVX512 = 0 | AVX512_VBMI = 0 | AVX512_VNNI = 0 | FMA = 1 | NEON = 0 | ARM_FMA = 0 | F16C = 1 | FP16_VA = 0 | WASM_SIMD = 0 | BLAS = 1 | SSE3 = 1 | VSX = 0 | \n"
     ]
    }
   ],
   "source": [
    "model_bin = \"/media/captdishwasher/Samshmung/horenbergerb/llama/llama.cpp/models/wizard-mega-13b_ggml_q4_0.bin\"\n",
    "LLM = Llama(model_path=model_bin, n_ctx=2048, n_threads=7, n_batch=512)\n"
   ]
  },
  {
   "cell_type": "code",
   "execution_count": 43,
   "metadata": {},
   "outputs": [
    {
     "name": "stderr",
     "output_type": "stream",
     "text": [
      "/tmp/ipykernel_719270/2381194746.py:7: UserWarning: Implicit dimension choice for softmax has been deprecated. Change the call to include dim=X as an argument.\n",
      "  probs=F.softmax(torch.from_numpy(logits)).numpy()\n"
     ]
    },
    {
     "data": {
      "image/png": "[encoded data removed]",
      "text/plain": [
       "<Figure size 432x288 with 1 Axes>"
      ]
     },
     "metadata": {
      "needs_background": "light"
     },
     "output_type": "display_data"
    },
    {
     "name": "stdout",
     "output_type": "stream",
     "text": [
      "There are 6 tokens outside the 1 smallest bins.\n"
     ]
    },
    {
     "data": {
      "image/png": "[encoded data removed]",
      "text/plain": [
       "<Figure size 432x288 with 1 Axes>"
      ]
     },
     "metadata": {
      "needs_background": "light"
     },
     "output_type": "display_data"
    },
    {
     "name": "stdout",
     "output_type": "stream",
     "text": [
      "Token: b'\"', Prob: 0.009450851570922866\n",
      "Token: b'Pro', Prob: 0.010272273338296683\n",
      "Token: b'S', Prob: 0.010896885147573962\n",
      "Token: b'It', Prob: 0.012260884463681834\n",
      "Token: b'As', Prob: 0.04124542727462139\n",
      "Token: b'The', Prob: 0.05035930395820062\n",
      "Token: b'Once', Prob: 0.11283278933574853\n",
      "Token: b'Title', Prob: 0.16015727046812553\n",
      "Token: b'Ch', Prob: 0.20038053601747083\n",
      "Token: b'In', Prob: 0.2652110724096536\n"
     ]
    },
    {
     "data": {
      "image/png": "[encoded data removed]",
      "text/plain": [
       "<Figure size 432x288 with 1 Axes>"
      ]
     },
     "metadata": {
      "needs_background": "light"
     },
     "output_type": "display_data"
    },
    {
     "name": "stdout",
     "output_type": "stream",
     "text": [
      "Mean: 3.1250000000000014e-05, Std Dev: 0.0021922982604191477\n"
     ]
    }
   ],
   "source": [
    "wizard_prompt_format = \"\"\"{prompt}\n",
    "### Response:\n",
    "\"\"\"\n",
    "\n",
    "logits, probs = get_logits_and_probs(LLM, wizard_prompt_format.format(prompt=prompt))\n",
    "plot_logits(logits=logits)\n",
    "plt.show()\n",
    "plot_probs(probs)\n",
    "plt.show()\n",
    "plot_most_likely_tokens(LLM, probs)\n",
    "plt.show()\n",
    "get_mean_and_std_dev(probs)"
   ]
  }
 ],
 "metadata": {
  "kernelspec": {
   "display_name": "textgen",
   "language": "python",
   "name": "python3"
  },
  "language_info": {
   "codemirror_mode": {
    "name": "ipython",
    "version": 3
   },
   "file_extension": ".py",
   "mimetype": "text/x-python",
   "name": "python",
   "nbconvert_exporter": "python",
   "pygments_lexer": "ipython3",
   "version": "3.10.9"
  },
  "orig_nbformat": 4
 },
 "nbformat": 4,
 "nbformat_minor": 2
}
